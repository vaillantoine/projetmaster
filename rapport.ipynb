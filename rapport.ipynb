{
 "cells": [
  {
   "cell_type": "code",
   "execution_count": null,
   "outputs": [],
   "source": [
    "from code import *\n",
    "import os\n",
    "import torch\n",
    "from torch import nn\n",
    "from torch.utils.data import DataLoader, random_split\n",
    "from torchvision import datasets, transforms\n"
   ],
   "metadata": {
    "collapsed": false,
    "is_executing": true
   },
   "id": "524c55fa7eb060cb"
  },
  {
   "cell_type": "markdown",
   "source": [
    "Création du dataset et chargement dans le DataLoader\n",
    "la fonction `gen_csv(img_dir, path_csv)` génère le fichier csv des labels selon les dossier des images"
   ],
   "metadata": {
    "collapsed": false
   },
   "id": "afd7f16454838e20"
  },
  {
   "cell_type": "code",
   "execution_count": 4,
   "outputs": [],
   "source": [
    "CONFIG = {\n",
    "    \"label_file\": \"./labels/labels.csv\",\n",
    "    \"img_dir\": \"./img\",\n",
    "    \"optimizer\":\"SGD\",\n",
    "    \"learning_rate\":0.01,\n",
    "    \"epoch\":50,\n",
    "    \"loss\":\"cross_entropy\",\n",
    "    \"batch_size\":16,\n",
    "    \"device\":\"cuda\" if torch.cuda.is_available() else \"cpu\",\n",
    "    \"path_config\":\"./config.json\", # PATH TO CHANGE\n",
    "    \"loss_history\" : {\"train\":[],\n",
    "                      \"val\": [],\n",
    "                      },\n",
    "    \"overall_time\": 0\n",
    "}"
   ],
   "metadata": {
    "collapsed": false,
    "ExecuteTime": {
     "end_time": "2024-01-10T10:09:55.942471800Z",
     "start_time": "2024-01-10T10:09:55.892944600Z"
    }
   },
   "id": "c07049c9e94f6a66"
  },
  {
   "cell_type": "code",
   "execution_count": null,
   "outputs": [],
   "source": [
    "## Dataset\n",
    "data = CustomImageDataset(CONFIG[\"label_file\"], CONFIG[\"img_dir\"])\n",
    "\n",
    "## DataLoader\n",
    "test_prop = 0.1\n",
    "val_prop = 0.1\n",
    "data, test_set = random_split(data, [1 - test_prop, test_prop])\n",
    "train_set, val_set = random_split(data, [1 - val_prop, val_prop])\n",
    "train_dataloader = DataLoader(train_set, batch_size=CONFIG[\"batch_size\"], shuffle=True)\n",
    "val_dataloader = DataLoader(val_set, batch_size=CONFIG[\"batch_size\"], shuffle=True)\n",
    "test_dataloader = DataLoader(test_set, batch_size=CONFIG[\"batch_size\"], shuffle=True)\n",
    "CONFIG[\"n_train\"] = len(train_dataloader)\n",
    "CONFIG[\"n_val\"] = len(val_dataloader)\n",
    "\n",
    "## Network\n",
    "class Net(nn.Module):\n",
    "    def __init__(self):\n",
    "        super(Net, self).__init__()\n",
    "        self.flatten = nn.Flatten()\n",
    "        self.linear_relu_stack = nn.Sequential(\n",
    "            nn.Linear(28*28, 128),\n",
    "            nn.ReLU(),\n",
    "            nn.Linear(128, 256),\n",
    "            nn.ReLU(),\n",
    "            nn.Linear(256, 256),\n",
    "            nn.ReLU(),\n",
    "            nn.Linear(256, 128),\n",
    "            nn.ReLU(),\n",
    "            nn.Linear(128, 10)\n",
    "        )\n",
    "\n",
    "    def forward(self, x):\n",
    "        x = self.flatten(x)\n",
    "        logits = self.linear_relu_stack(x)\n",
    "        return logits\n",
    "\n",
    "net = Net().to(CONFIG[\"device\"])\n",
    "print(net)"
   ],
   "metadata": {
    "collapsed": false
   },
   "id": "90553284d3040243"
  }
 ],
 "metadata": {
  "kernelspec": {
   "display_name": "Python 3",
   "language": "python",
   "name": "python3"
  },
  "language_info": {
   "codemirror_mode": {
    "name": "ipython",
    "version": 2
   },
   "file_extension": ".py",
   "mimetype": "text/x-python",
   "name": "python",
   "nbconvert_exporter": "python",
   "pygments_lexer": "ipython2",
   "version": "2.7.6"
  }
 },
 "nbformat": 4,
 "nbformat_minor": 5
}
