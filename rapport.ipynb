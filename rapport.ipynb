{
 "cells": [
  {
   "cell_type": "code",
   "execution_count": null,
   "outputs": [],
   "source": [
    "from code import *"
   ],
   "metadata": {
    "collapsed": false,
    "is_executing": true
   },
   "id": "524c55fa7eb060cb"
  },
  {
   "cell_type": "markdown",
   "source": [
    "Création du dataset et chargement dans le DataLoader\n",
    "la fonction `gen_csv(img_dir, path_csv)` génère le fichier csv des labels selon les dossier des images"
   ],
   "metadata": {
    "collapsed": false
   },
   "id": "afd7f16454838e20"
  },
  {
   "cell_type": "code",
   "execution_count": 4,
   "outputs": [],
   "source": [
    "label_dir = \"./labels/\"\n",
    "img_dir = \"./img\"\n",
    "\n"
   ],
   "metadata": {
    "collapsed": false,
    "ExecuteTime": {
     "end_time": "2024-01-10T10:09:55.942471800Z",
     "start_time": "2024-01-10T10:09:55.892944600Z"
    }
   },
   "id": "c07049c9e94f6a66"
  },
  {
   "cell_type": "code",
   "execution_count": null,
   "outputs": [],
   "source": [
    "train_data = CustomImageDataset(label_file, img_dir)\n",
    "val_data = CustomImageDataset(label_file, img_dir)"
   ],
   "metadata": {
    "collapsed": false
   },
   "id": "c38e045e50ca50e2"
  },
  {
   "cell_type": "code",
   "execution_count": 5,
   "outputs": [
    {
     "name": "stdout",
     "output_type": "stream",
     "text": [
      "                name  label\n",
      "0              0.jpg      0\n",
      "1           1000.jpg      0\n",
      "2           1001.jpg      0\n",
      "3           1002.jpg      0\n",
      "4           1003.jpg      0\n",
      "...              ...    ...\n",
      "2202     image10.jpg      2\n",
      "2203     image11.jpg      2\n",
      "2204  imagecompr.jpg      2\n",
      "2205      test12.jpg      2\n",
      "2206             trj      2\n",
      "\n",
      "[2207 rows x 2 columns]\n"
     ]
    },
    {
     "ename": "AttributeError",
     "evalue": "__enter__",
     "output_type": "error",
     "traceback": [
      "\u001B[1;31m---------------------------------------------------------------------------\u001B[0m",
      "\u001B[1;31mAttributeError\u001B[0m                            Traceback (most recent call last)",
      "Cell \u001B[1;32mIn[5], line 1\u001B[0m\n\u001B[1;32m----> 1\u001B[0m \u001B[43mgen_csv\u001B[49m\u001B[43m(\u001B[49m\u001B[43mimg_dir\u001B[49m\u001B[43m,\u001B[49m\u001B[43m \u001B[49m\u001B[43mlabel_dir\u001B[49m\u001B[43m)\u001B[49m\n",
      "File \u001B[1;32m~\\Documents\\Cours\\3A\\Master\\projet\\code.py:58\u001B[0m, in \u001B[0;36mgen_csv\u001B[1;34m(img_dir, path_csv)\u001B[0m\n\u001B[0;32m     55\u001B[0m \u001B[38;5;28;01mif\u001B[39;00m DEBUG:\n\u001B[0;32m     56\u001B[0m     \u001B[38;5;28mprint\u001B[39m(csv)\n\u001B[1;32m---> 58\u001B[0m \u001B[38;5;28;01mwith\u001B[39;00m os\u001B[38;5;241m.\u001B[39mchdir(path_csv):\n\u001B[0;32m     59\u001B[0m     csv\u001B[38;5;241m.\u001B[39mto_csv(index\u001B[38;5;241m=\u001B[39m\u001B[38;5;28;01mFalse\u001B[39;00m)\n",
      "\u001B[1;31mAttributeError\u001B[0m: __enter__"
     ]
    }
   ],
   "source": [
    "gen_csv(img_dir, label_dir)"
   ],
   "metadata": {
    "collapsed": false,
    "ExecuteTime": {
     "end_time": "2024-01-10T10:09:59.810838500Z",
     "start_time": "2024-01-10T10:09:58.971373600Z"
    }
   },
   "id": "56cd7e0d0848d936"
  },
  {
   "cell_type": "code",
   "execution_count": null,
   "outputs": [],
   "source": [
    "import utils.file as file\n",
    "file.reformat_img_name(\"./img\")"
   ],
   "metadata": {
    "collapsed": false,
    "is_executing": true
   },
   "id": "dbb47564f6aec221"
  },
  {
   "cell_type": "code",
   "execution_count": null,
   "outputs": [],
   "source": [],
   "metadata": {
    "collapsed": false,
    "is_executing": true
   },
   "id": "6fa18018fe22b4cc"
  }
 ],
 "metadata": {
  "kernelspec": {
   "display_name": "Python 3",
   "language": "python",
   "name": "python3"
  },
  "language_info": {
   "codemirror_mode": {
    "name": "ipython",
    "version": 2
   },
   "file_extension": ".py",
   "mimetype": "text/x-python",
   "name": "python",
   "nbconvert_exporter": "python",
   "pygments_lexer": "ipython2",
   "version": "2.7.6"
  }
 },
 "nbformat": 4,
 "nbformat_minor": 5
}
